{
 "cells": [
  {
   "cell_type": "markdown",
   "id": "ca27d958",
   "metadata": {},
   "source": [
    "# TASK 1: Mở tệp được cung cấp để truy cập đọc"
   ]
  },
  {
   "cell_type": "code",
   "execution_count": 1,
   "id": "8f720a5c",
   "metadata": {},
   "outputs": [],
   "source": [
    "# Tạo hàm mở file:\n",
    "def open_file():\n",
    "    try:\n",
    "        file = open(input(\"Nhập tên lớp: \"), \"r\")\n",
    "        mark_table = file.readlines()\n",
    "        print(\"Mở thành công\")\n",
    "        return mark_table\n",
    "    except:\n",
    "        print(\"Không tồn tại lớp này, mời nhập lại theo cú pháp classx.txt\")"
   ]
  },
  {
   "cell_type": "markdown",
   "id": "d2a732c7",
   "metadata": {},
   "source": [
    "# TASK 2: Xử lý dữ liệu sau khi truy cập đọc"
   ]
  },
  {
   "cell_type": "code",
   "execution_count": 2,
   "id": "52a48905",
   "metadata": {},
   "outputs": [
    {
     "name": "stdout",
     "output_type": "stream",
     "text": [
      "Nhập tên lớp: class1.txt\n",
      "Mở thành công\n"
     ]
    }
   ],
   "source": [
    "mark_table = open_file()"
   ]
  },
  {
   "cell_type": "code",
   "execution_count": 3,
   "id": "1b94f032",
   "metadata": {},
   "outputs": [
    {
     "data": {
      "text/plain": [
       "['N00000001,A,A,D,D,C,D,D,A,,C,D,B,C,,B,C,B,D,A,C,,A,,C,D\\n',\n",
       " 'N00000002,,A,,D,,B,D,A,C,C,D,,A,A,A,C,B,D,C,C,A,A,B,,D\\n',\n",
       " 'N00000003,B,A,,D,C,B,D,A,C,C,,B,A,B,A,C,B,D,A,,A,,B,D,D\\n',\n",
       " 'N00000004,B,B,D,,,B,D,A,C,C,D,B,A,B,A,C,B,D,,C,A,D,B,C,D\\n',\n",
       " 'N00000005,B,A,,D,,B,D,A,C,C,D,B,A,B,A,C,B,D,D,C,A,A,,D,D\\n',\n",
       " 'N00000006,B,A,D,A,C,B,D,A,C,C,C,B,A,D,A,C,,C,A,C,A,C,B,D,A\\n',\n",
       " 'N00000007,B,A,D,D,C,B,D,A,C,,D,B,A,B,A,C,B,D,,C,A,A,B,D,\\n',\n",
       " 'N00000008,A,A,D,D,C,,D,A,C,C,B,C,A,B,A,A,B,D,A,C,A,,B,B,D\\n',\n",
       " 'N00000009,B,A,,D,C,B,D,A,C,A,D,B,A,B,A,A,B,D,A,C,A,A,B,D,D\\n',\n",
       " 'N00000010,,A,D,B,C,B,D,A,C,C,D,B,A,B,A,C,B,D,A,D,,,B,D,B\\n',\n",
       " 'N00000011,B,A,D,,C,B,D,A,C,D,D,B,A,B,A,C,B,D,A,C,A,B,B,D,D\\n',\n",
       " 'N00000012,B,,D,D,C,B,D,A,C,C,D,B,A,B,A,A,B,D,A,,A,A,A,,C\\n',\n",
       " 'N00000013,,A,D,,B,B,,A,C,A,D,B,A,B,D,C,B,D,A,C,A,A,B,D,D\\n',\n",
       " 'N00000014,B,B,D,D,C,B,,D,C,C,D,B,A,B,A,C,,D,A,C,A,A,,D,D\\n',\n",
       " 'N00000015,A,C,C,D,C,B,,A,C,C,D,B,A,B,A,C,B,D,A,C,A,B,,D,D\\n',\n",
       " 'N00000016,B,A,C,D,,B,D,A,C,C,D,B,A,B,A,C,B,D,A,C,A,A,B,D,D\\n',\n",
       " 'N00000017,B,A,D,D,C,B,C,A,D,C,D,A,A,D,A,C,B,D,D,B,,A,B,D,D\\n',\n",
       " 'N00000018,B,A,D,A,C,B,D,A,C,C,D,B,A,B,,,B,D,A,B,A,A,B,,D\\n',\n",
       " 'N00000019,B,A,D,D,C,B,D,C,C,C,,B,,B,D,C,B,D,A,,A,A,B,D,D\\n',\n",
       " 'N00000020,B,,D,D,C,B,D,A,C,B,,,A,C,A,D,B,D,B,C,A,A,B,D,D']"
      ]
     },
     "execution_count": 3,
     "metadata": {},
     "output_type": "execute_result"
    }
   ],
   "source": [
    "mark_table"
   ]
  },
  {
   "cell_type": "code",
   "execution_count": 4,
   "id": "08ea9155",
   "metadata": {},
   "outputs": [],
   "source": [
    "# Phân tích từng dòng và đảm bảo nó là hợp lệ:\n",
    "# 1 dòng chứa 26 giá trị được phân tích bằng dấu phẩy\n",
    "# Mã học sinh bắt đầu bằng N và có 8 ký tự sau đó\n",
    "valid_mark_table = []\n",
    "def check_valid():\n",
    "    # In tổng số dòng dữ liệu\n",
    "    print(\"Tổng số dòng dữ liệu được lưu trữ: \",len(mark_table))\n",
    "    valid_line_num = 0\n",
    "    invalid_line_num = 0\n",
    "    for line in mark_table:\n",
    "        x = line.strip().split(\",\")\n",
    "        if len(x) == 26:\n",
    "            if x[0].startswith(\"N\") is True and x[0] and len(x[0]) == 9:\n",
    "                valid_line_num += 1\n",
    "                valid_mark_table.append(line)\n",
    "            elif x[0].startswith(\"N\") is True and len(x[0]) != 9:\n",
    "                invalid_line_num += 1\n",
    "                print(\"Dòng chứa mã học sinh có số kí tự không hợp lệ:\\n\", line)\n",
    "            elif x[0].startswith(\"N\") is False and len(x[0]) == 9:\n",
    "                invalid_line_num += 1\n",
    "                print(\"Dòng chứa mã học sinh không bắt đầu bằng 'N':\\n\", line)\n",
    "            else:\n",
    "                invalid_line_num += 1\n",
    "                print(\"Dòng chứa mã học sinh không bắt đầu bằng 'N' và có số kí tự không hợp lệ:\\n\", line)                \n",
    "        else:\n",
    "            if x[0].startswith(\"N\") is True and len(x[0]) == 9:\n",
    "                invalid_line_num += 1\n",
    "                print(\"Dòng có số kí tự không hợp lệ:\\n\", line)\n",
    "            elif x[0].startswith(\"N\") is True and len(x[0]) != 9:\n",
    "                invalid_line_num += 1\n",
    "                print(\"Dòng chứa mã học sinh có số kí tự không hợp lệ và có số kí tự không hợp lệ:\\n\", line)\n",
    "            elif x[0].startswith(\"N\") is False and len(x[0]) == 9:\n",
    "                invalid_line_num += 1\n",
    "                print(\"Dòng chứa mã học sinh không bắt đầu bằng 'N' và có số kí tự không hợp lệ:\\n\", line)\n",
    "            else:\n",
    "                invalid_line_num += 1\n",
    "                print(\"Dòng chứa mã học sinh không bắt đầu bằng 'N', không đủ số kí tự và có số kí tự không hợp lệ:\\n\", line)  \n",
    "    print(\"Tổng số dòng hợp lệ: \", valid_line_num)\n",
    "    print(\"Tổng số dòng không hợp lệ: \", invalid_line_num)"
   ]
  },
  {
   "cell_type": "code",
   "execution_count": 5,
   "id": "f014cad5",
   "metadata": {
    "scrolled": true
   },
   "outputs": [
    {
     "name": "stdout",
     "output_type": "stream",
     "text": [
      "Tổng số dòng dữ liệu được lưu trữ:  20\n",
      "Tổng số dòng hợp lệ:  20\n",
      "Tổng số dòng không hợp lệ:  0\n"
     ]
    }
   ],
   "source": [
    "check_valid()"
   ]
  },
  {
   "cell_type": "code",
   "execution_count": 6,
   "id": "f135b83d",
   "metadata": {},
   "outputs": [
    {
     "data": {
      "text/plain": [
       "['N00000001,A,A,D,D,C,D,D,A,,C,D,B,C,,B,C,B,D,A,C,,A,,C,D\\n',\n",
       " 'N00000002,,A,,D,,B,D,A,C,C,D,,A,A,A,C,B,D,C,C,A,A,B,,D\\n',\n",
       " 'N00000003,B,A,,D,C,B,D,A,C,C,,B,A,B,A,C,B,D,A,,A,,B,D,D\\n',\n",
       " 'N00000004,B,B,D,,,B,D,A,C,C,D,B,A,B,A,C,B,D,,C,A,D,B,C,D\\n',\n",
       " 'N00000005,B,A,,D,,B,D,A,C,C,D,B,A,B,A,C,B,D,D,C,A,A,,D,D\\n',\n",
       " 'N00000006,B,A,D,A,C,B,D,A,C,C,C,B,A,D,A,C,,C,A,C,A,C,B,D,A\\n',\n",
       " 'N00000007,B,A,D,D,C,B,D,A,C,,D,B,A,B,A,C,B,D,,C,A,A,B,D,\\n',\n",
       " 'N00000008,A,A,D,D,C,,D,A,C,C,B,C,A,B,A,A,B,D,A,C,A,,B,B,D\\n',\n",
       " 'N00000009,B,A,,D,C,B,D,A,C,A,D,B,A,B,A,A,B,D,A,C,A,A,B,D,D\\n',\n",
       " 'N00000010,,A,D,B,C,B,D,A,C,C,D,B,A,B,A,C,B,D,A,D,,,B,D,B\\n',\n",
       " 'N00000011,B,A,D,,C,B,D,A,C,D,D,B,A,B,A,C,B,D,A,C,A,B,B,D,D\\n',\n",
       " 'N00000012,B,,D,D,C,B,D,A,C,C,D,B,A,B,A,A,B,D,A,,A,A,A,,C\\n',\n",
       " 'N00000013,,A,D,,B,B,,A,C,A,D,B,A,B,D,C,B,D,A,C,A,A,B,D,D\\n',\n",
       " 'N00000014,B,B,D,D,C,B,,D,C,C,D,B,A,B,A,C,,D,A,C,A,A,,D,D\\n',\n",
       " 'N00000015,A,C,C,D,C,B,,A,C,C,D,B,A,B,A,C,B,D,A,C,A,B,,D,D\\n',\n",
       " 'N00000016,B,A,C,D,,B,D,A,C,C,D,B,A,B,A,C,B,D,A,C,A,A,B,D,D\\n',\n",
       " 'N00000017,B,A,D,D,C,B,C,A,D,C,D,A,A,D,A,C,B,D,D,B,,A,B,D,D\\n',\n",
       " 'N00000018,B,A,D,A,C,B,D,A,C,C,D,B,A,B,,,B,D,A,B,A,A,B,,D\\n',\n",
       " 'N00000019,B,A,D,D,C,B,D,C,C,C,,B,,B,D,C,B,D,A,,A,A,B,D,D\\n',\n",
       " 'N00000020,B,,D,D,C,B,D,A,C,B,,,A,C,A,D,B,D,B,C,A,A,B,D,D']"
      ]
     },
     "execution_count": 6,
     "metadata": {},
     "output_type": "execute_result"
    }
   ],
   "source": [
    "valid_mark_table"
   ]
  },
  {
   "cell_type": "markdown",
   "id": "e3a979a3",
   "metadata": {},
   "source": [
    "# TASK 3: Viết một chương trình để chấm điểm các bài thi"
   ]
  },
  {
   "cell_type": "code",
   "execution_count": 44,
   "id": "7c4406e9",
   "metadata": {},
   "outputs": [],
   "source": [
    "# Đáp án đúng bài thi:\n",
    "answer_key = \"B,A,D,D,C,B,D,A,C,C,D,B,A,B,A,C,B,D,A,C,A,A,B,D,D\".split(\",\")"
   ]
  },
  {
   "cell_type": "code",
   "execution_count": 65,
   "id": "cfa476b4",
   "metadata": {
    "scrolled": true
   },
   "outputs": [],
   "source": [
    "# Tạo danh sách điểm tương ứng với từng câu trả lời:\n",
    "scores = []\n",
    "for line in valid_mark_table:\n",
    "    x = line.strip().split(\",\")\n",
    "    for i in range(len(x) - 1):\n",
    "        if x[i + 1] == answer_key[i]:\n",
    "            x[i + 1] = 4\n",
    "        elif x[i + 1] == '':\n",
    "            x[i + 1] = 0\n",
    "        else:\n",
    "            x[i + 1] = -1\n",
    "    scores.append(x[1:])\n"
   ]
  },
  {
   "cell_type": "code",
   "execution_count": 46,
   "id": "53dba80f",
   "metadata": {},
   "outputs": [
    {
     "name": "stdout",
     "output_type": "stream",
     "text": [
      "[59, 70, 84, 73, 83, 66, 88, 67, 86, 73, 86, 73, 73, 78, 72, 91, 66, 78, 78, 68]\n"
     ]
    }
   ],
   "source": [
    "# Tính tổng điểm cho từng học sinh:\n",
    "total = []\n",
    "for line in scores:\n",
    "    total.append(sum(line))\n",
    "print(total)"
   ]
  },
  {
   "cell_type": "code",
   "execution_count": 66,
   "id": "7eaa977b",
   "metadata": {},
   "outputs": [
    {
     "name": "stdout",
     "output_type": "stream",
     "text": [
      "Điểm trung bình của lớp:  75.6 \n",
      "Điểm trung vị của lớp:  75.5 \n",
      "Điểm cao nhất của lớp:  91 \n",
      "Điểm thấp nhất của lớp:  59 \n",
      "Khoảng điểm của lớp:  32\n"
     ]
    }
   ],
   "source": [
    "# Thống kê điểm của lớp:\n",
    "def class_scores():    \n",
    "    sorted_total = sorted(total)\n",
    "    max_score = max(total)\n",
    "    min_score = min(total)\n",
    "    mean_score = sum(total)/len(total)\n",
    "    range_of_score = max(total) - min(total)\n",
    "    y = len(sorted_total)\n",
    "    if y % 2 == 0:\n",
    "        meadian_score = (sorted_total[int(y/2)] + sorted_total[int(y/2 + 1)])/2\n",
    "    else:\n",
    "        meadian_score = sorted_total[int(y//2 + 1)]\n",
    "    print(\"Điểm trung bình của lớp: \", mean_score,\n",
    "          \"\\nĐiểm trung vị của lớp: \", meadian_score,\n",
    "         \"\\nĐiểm cao nhất của lớp: \", max_score,\n",
    "         \"\\nĐiểm thấp nhất của lớp: \", min_score,\n",
    "         \"\\nKhoảng điểm của lớp: \", range_of_score)\n",
    "class_scores()"
   ]
  },
  {
   "cell_type": "markdown",
   "id": "95482bff",
   "metadata": {},
   "source": [
    "# TASK 4: Nhập điểm của học sinh ra file"
   ]
  },
  {
   "cell_type": "code",
   "execution_count": 106,
   "id": "680a4d9d",
   "metadata": {},
   "outputs": [],
   "source": [
    "def score_table():    \n",
    "    name_id = []\n",
    "    for line in valid_mark_table:\n",
    "        x = line.strip().split(\",\")\n",
    "        name_id.append(x[0])\n",
    "    score_table = []\n",
    "    for i in range(len(name_id)):\n",
    "        score_table.append(name_id[i] + \",\" + str(total[i]) + \"\\n\")\n",
    "    return print(score_table)"
   ]
  },
  {
   "cell_type": "code",
   "execution_count": 109,
   "id": "97f1427b",
   "metadata": {},
   "outputs": [
    {
     "ename": "TypeError",
     "evalue": "'NoneType' object is not callable",
     "output_type": "error",
     "traceback": [
      "\u001b[1;31m---------------------------------------------------------------------------\u001b[0m",
      "\u001b[1;31mTypeError\u001b[0m                                 Traceback (most recent call last)",
      "Input \u001b[1;32mIn [109]\u001b[0m, in \u001b[0;36m<module>\u001b[1;34m\u001b[0m\n\u001b[1;32m----> 1\u001b[0m score_table \u001b[38;5;241m=\u001b[39m \u001b[43mscore_table\u001b[49m\u001b[43m(\u001b[49m\u001b[43m)\u001b[49m\n\u001b[0;32m      2\u001b[0m score_table\n",
      "\u001b[1;31mTypeError\u001b[0m: 'NoneType' object is not callable"
     ]
    }
   ],
   "source": [
    "score_table = score_table()\n",
    "score_table"
   ]
  },
  {
   "cell_type": "code",
   "execution_count": 95,
   "id": "ec83ab47",
   "metadata": {},
   "outputs": [
    {
     "name": "stdout",
     "output_type": "stream",
     "text": [
      "Tên file cần xuất: class1_grade.txt\n"
     ]
    }
   ],
   "source": [
    "grade_file = input(\"Tên file cần xuất: \")\n",
    "with open(grade_file, \"w\") as writefile:\n",
    "    for line in score_table:\n",
    "        writefile.write(line)"
   ]
  },
  {
   "cell_type": "code",
   "execution_count": null,
   "id": "dd171231",
   "metadata": {},
   "outputs": [],
   "source": []
  }
 ],
 "metadata": {
  "kernelspec": {
   "display_name": "Python 3 (ipykernel)",
   "language": "python",
   "name": "python3"
  },
  "language_info": {
   "codemirror_mode": {
    "name": "ipython",
    "version": 3
   },
   "file_extension": ".py",
   "mimetype": "text/x-python",
   "name": "python",
   "nbconvert_exporter": "python",
   "pygments_lexer": "ipython3",
   "version": "3.10.2"
  }
 },
 "nbformat": 4,
 "nbformat_minor": 5
}
