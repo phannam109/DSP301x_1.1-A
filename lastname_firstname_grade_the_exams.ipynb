{
 "cells": [
  {
   "cell_type": "markdown",
   "id": "ca27d958",
   "metadata": {},
   "source": [
    "# TASK 1: Mở tệp được cung cấp để truy cập đọc"
   ]
  },
  {
   "cell_type": "code",
   "execution_count": 21,
   "id": "8f720a5c",
   "metadata": {},
   "outputs": [
    {
     "name": "stdout",
     "output_type": "stream",
     "text": [
      "Nhập tên lớp: class2.txt\n",
      "Mở thành công\n"
     ]
    }
   ],
   "source": [
    "# Tạo hàm mở file:\n",
    "try:\n",
    "    file = open(input(\"Nhập tên lớp: \"), \"r\")\n",
    "    mark_table = file.readlines()\n",
    "    print(\"Mở thành công\")\n",
    "except:\n",
    "    print(\"Không tồn tại lớp này, mời nhập lại theo cú pháp classx.txt\")"
   ]
  },
  {
   "cell_type": "markdown",
   "id": "d2a732c7",
   "metadata": {},
   "source": [
    "# TASK 2: Xử lý dữ liệu sau khi truy cập đọc"
   ]
  },
  {
   "cell_type": "code",
   "execution_count": 22,
   "id": "1b94f032",
   "metadata": {
    "scrolled": true
   },
   "outputs": [
    {
     "data": {
      "text/plain": [
       "['N00000021,B,A,C,D,C,C,D,D,C,C,D,B,,B,A,C,B,,A,D,A,A,B,D,\\n',\n",
       " 'N00000022,B,A,D,A,C,B,D,D,C,C,D,B,A,B,A,,B,A,A,C,A,A,B,A,D\\n',\n",
       " 'N00000023,,A,D,D,C,B,D,A,C,C,,C,,B,A,C,B,D,A,C,A,A\\n',\n",
       " 'N00000024,C,C,D,D,C,B,,A,C,C,D,B,A,B,,C,B,D,A,C,A,B,B,,D\\n',\n",
       " 'N0000002,B,A,D,D,C,B,D,A,C,D,D,D,A,,A,C,D,,A,C,A,A,B,D,D\\n',\n",
       " 'N00000026,B,C,D,D,C,D,B,A,C,D,D,,A,B,A,C,B,D,,C,A,A,B,D,D\\n',\n",
       " 'NA0000027,B,A,D,D,,B,,A,C,B,D,B,A,,A,C,B,D,A,,A,A,B,D,D\\n',\n",
       " 'N00000028,B,A,D,D,D,B,D,A,C,C,,,A,B,A,,B,D,C,C,A,A,B,C,D\\n',\n",
       " 'N00000029,B,A,D,D,C,A,D,A,C,C,D,B,A,B,A,C,B,,,C,A,A,B,D,D\\n',\n",
       " 'N00000030,A,A,D,D,C,B,D,,C,C,D,B,A,B,A,C,B,B,A,C,A,,B,D,D\\n',\n",
       " 'N00000031,B,,D,D,C,B,D,A,A,C,D,C,A,B,A,C,B,C,A,C,C,A,B,D,D\\n',\n",
       " 'N00000032,B,A,D,D,C,B,D,A,C,C,D,,A,A,A,C,B,D,A,C,,A,B,D,D\\n',\n",
       " 'N00000033,B,A,D,D,C,,D,A,C,B,D,B,A,B,C,C,C,D,A,C,A,,B,D,D\\n',\n",
       " 'N00000034,B,,D,,C,B,A,A,C,C,D,B,A,,A,C,B,A,B,C,A,,B,D,D\\n',\n",
       " 'N00000035,B,A,D,D,B,B,,A,C,,D,B,A,B,A,A,B,D,A,C,A,C,B,D,D,A,A\\n',\n",
       " 'N00000036,B,A,D,D,C,B,D,A,C,B,A,C,A,B,A,C,B,D,A,C,A,A,B,,\\n',\n",
       " 'N00000037,B,A,D,D,C,,D,A,C,C,D,,A,B,A,A,B,D,A,C,,,,D,D\\n',\n",
       " 'N00000038,,A,D,,C,B,D,A,A,C,D,B,A,B,A,C,B,D,,C,A,D,B,D,C\\n',\n",
       " 'N00000039,B,A,D,D,C,A,B,A,C,C,D,B,A,D,A,,C,D,A,B,A,A,B,A,D\\n',\n",
       " 'N00000040,B,A,,D,C,B,D,D,C,C,C,B,A,B,A,C,A,,A,C,A,,B,D,D\\n',\n",
       " 'N00000041,,A,D,D,C,B,D,A,C,C,D,B,A,B,A,C,B,D,A,C,B,A,B,D,D\\n',\n",
       " 'N00000042,B,A,D,D,C,B,D,A,C,C,D,B,A,B,A,C,B,D,A,C,A,A,B,D,D\\n',\n",
       " 'N00000043,C,A,D,D,C,B,D,A,C,C,D,B,A,B,C,C,B,D,A,C,A,,B,D,D\\n',\n",
       " 'N00000044,B,A,D,D,C,B,D,A,C,C,D,B,A,B,A,A,B,D,A,C,D,A,B,D,D\\n',\n",
       " 'N00000045,C,A,A,D,C,B,D,C,,C,D,B,A,B,A,B,B,A,,C,A,A,B,D,D']"
      ]
     },
     "execution_count": 22,
     "metadata": {},
     "output_type": "execute_result"
    }
   ],
   "source": [
    "mark_table"
   ]
  },
  {
   "cell_type": "code",
   "execution_count": 23,
   "id": "1d73b5ca",
   "metadata": {},
   "outputs": [
    {
     "name": "stdout",
     "output_type": "stream",
     "text": [
      "Tổng số dòng dữ liệu được lưu trữ:  25\n"
     ]
    }
   ],
   "source": [
    "# Báo cáo tổng số dòng được lưu trữ trong tệp:\n",
    "print(\"Tổng số dòng dữ liệu được lưu trữ: \",len(mark_table))"
   ]
  },
  {
   "cell_type": "code",
   "execution_count": 25,
   "id": "08ea9155",
   "metadata": {},
   "outputs": [
    {
     "name": "stdout",
     "output_type": "stream",
     "text": [
      "Dòng có số kí tự không hợp lệ:\n",
      " N00000023,,A,D,D,C,B,D,A,C,C,,C,,B,A,C,B,D,A,C,A,A\n",
      "\n",
      "Dòng chứa mã học sinh không hợp lệ:\n",
      " N0000002,B,A,D,D,C,B,D,A,C,D,D,D,A,,A,C,D,,A,C,A,A,B,D,D\n",
      "\n",
      "Dòng chứa mã học sinh không hợp lệ:\n",
      " NA0000027,B,A,D,D,,B,,A,C,B,D,B,A,,A,C,B,D,A,,A,A,B,D,D\n",
      "\n",
      "Dòng có số kí tự không hợp lệ:\n",
      " N00000035,B,A,D,D,B,B,,A,C,,D,B,A,B,A,A,B,D,A,C,A,C,B,D,D,A,A\n",
      "\n",
      "Tổng số dòng hợp lệ:  21\n",
      "Tổng số dòng không hợp lệ:  4\n"
     ]
    }
   ],
   "source": [
    "# Phân tích từng dòng và đảm bảo nó là hợp lệ:\n",
    "# 1 dòng chứa 26 giá trị được phân tích bằng dấu phẩy\n",
    "# Mã học sinh bắt đầu bằng N và có 8 ký tự sau đó\n",
    "valid_mark_table = []\n",
    "valid_line_num = 0\n",
    "invalid_line_num = 0\n",
    "for line in mark_table:\n",
    "    x = line.strip().split(\",\")\n",
    "    if len(x) == 26:\n",
    "        if x[0].startswith(\"N\") is True and x[0][1:].isdigit() is True and len(x[0]) == 9:\n",
    "            valid_line_num += 1\n",
    "            valid_mark_table.append(line)\n",
    "        else:\n",
    "            invalid_line_num += 1\n",
    "            print(\"Dòng chứa mã học sinh không hợp lệ:\\n\", line)                \n",
    "    else:\n",
    "        if x[0].startswith(\"N\") is True and x[0][1:].isdigit() is True and len(x[0]) == 9:\n",
    "            invalid_line_num += 1\n",
    "            print(\"Dòng có số kí tự không hợp lệ:\\n\", line)\n",
    "        else:\n",
    "            invalid_line_num += 1\n",
    "            print(\"Dòng chứa có số kí tự không hợp lệ và mã học sinh không hợp lệ:\\n\", line)  \n",
    "print(\"Tổng số dòng hợp lệ: \", valid_line_num)\n",
    "print(\"Tổng số dòng không hợp lệ: \", invalid_line_num)"
   ]
  },
  {
   "cell_type": "code",
   "execution_count": 27,
   "id": "f135b83d",
   "metadata": {},
   "outputs": [
    {
     "data": {
      "text/plain": [
       "['N00000021,B,A,C,D,C,C,D,D,C,C,D,B,,B,A,C,B,,A,D,A,A,B,D,\\n',\n",
       " 'N00000022,B,A,D,A,C,B,D,D,C,C,D,B,A,B,A,,B,A,A,C,A,A,B,A,D\\n',\n",
       " 'N00000024,C,C,D,D,C,B,,A,C,C,D,B,A,B,,C,B,D,A,C,A,B,B,,D\\n',\n",
       " 'N00000026,B,C,D,D,C,D,B,A,C,D,D,,A,B,A,C,B,D,,C,A,A,B,D,D\\n',\n",
       " 'N00000028,B,A,D,D,D,B,D,A,C,C,,,A,B,A,,B,D,C,C,A,A,B,C,D\\n',\n",
       " 'N00000029,B,A,D,D,C,A,D,A,C,C,D,B,A,B,A,C,B,,,C,A,A,B,D,D\\n',\n",
       " 'N00000030,A,A,D,D,C,B,D,,C,C,D,B,A,B,A,C,B,B,A,C,A,,B,D,D\\n',\n",
       " 'N00000031,B,,D,D,C,B,D,A,A,C,D,C,A,B,A,C,B,C,A,C,C,A,B,D,D\\n',\n",
       " 'N00000032,B,A,D,D,C,B,D,A,C,C,D,,A,A,A,C,B,D,A,C,,A,B,D,D\\n',\n",
       " 'N00000033,B,A,D,D,C,,D,A,C,B,D,B,A,B,C,C,C,D,A,C,A,,B,D,D\\n',\n",
       " 'N00000034,B,,D,,C,B,A,A,C,C,D,B,A,,A,C,B,A,B,C,A,,B,D,D\\n',\n",
       " 'N00000036,B,A,D,D,C,B,D,A,C,B,A,C,A,B,A,C,B,D,A,C,A,A,B,,\\n',\n",
       " 'N00000037,B,A,D,D,C,,D,A,C,C,D,,A,B,A,A,B,D,A,C,,,,D,D\\n',\n",
       " 'N00000038,,A,D,,C,B,D,A,A,C,D,B,A,B,A,C,B,D,,C,A,D,B,D,C\\n',\n",
       " 'N00000039,B,A,D,D,C,A,B,A,C,C,D,B,A,D,A,,C,D,A,B,A,A,B,A,D\\n',\n",
       " 'N00000040,B,A,,D,C,B,D,D,C,C,C,B,A,B,A,C,A,,A,C,A,,B,D,D\\n',\n",
       " 'N00000041,,A,D,D,C,B,D,A,C,C,D,B,A,B,A,C,B,D,A,C,B,A,B,D,D\\n',\n",
       " 'N00000042,B,A,D,D,C,B,D,A,C,C,D,B,A,B,A,C,B,D,A,C,A,A,B,D,D\\n',\n",
       " 'N00000043,C,A,D,D,C,B,D,A,C,C,D,B,A,B,C,C,B,D,A,C,A,,B,D,D\\n',\n",
       " 'N00000044,B,A,D,D,C,B,D,A,C,C,D,B,A,B,A,A,B,D,A,C,D,A,B,D,D\\n',\n",
       " 'N00000045,C,A,A,D,C,B,D,C,,C,D,B,A,B,A,B,B,A,,C,A,A,B,D,D']"
      ]
     },
     "execution_count": 27,
     "metadata": {},
     "output_type": "execute_result"
    }
   ],
   "source": [
    "valid_mark_table"
   ]
  },
  {
   "cell_type": "markdown",
   "id": "e3a979a3",
   "metadata": {},
   "source": [
    "# TASK 3: Viết một chương trình để chấm điểm các bài thi"
   ]
  },
  {
   "cell_type": "code",
   "execution_count": 32,
   "id": "7c4406e9",
   "metadata": {},
   "outputs": [],
   "source": [
    "# Đáp án đúng bài thi:\n",
    "answer_key = \"B,A,D,D,C,B,D,A,C,C,D,B,A,B,A,C,B,D,A,C,A,A,B,D,D\".split(\",\")"
   ]
  },
  {
   "cell_type": "code",
   "execution_count": 33,
   "id": "cfa476b4",
   "metadata": {
    "scrolled": true
   },
   "outputs": [],
   "source": [
    "# Tạo danh sách điểm tương ứng với từng câu trả lời:\n",
    "scores = []\n",
    "for line in valid_mark_table:\n",
    "    x = line.strip().split(\",\")\n",
    "    for i in range(len(x) - 1):\n",
    "        if x[i + 1] == answer_key[i]:\n",
    "            x[i + 1] = 4\n",
    "        elif x[i + 1] == '':\n",
    "            x[i + 1] = 0\n",
    "        else:\n",
    "            x[i + 1] = -1\n",
    "    scores.append(x[1:])\n"
   ]
  },
  {
   "cell_type": "code",
   "execution_count": 34,
   "id": "53dba80f",
   "metadata": {},
   "outputs": [
    {
     "name": "stdout",
     "output_type": "stream",
     "text": [
      "[68, 76, 73, 72, 73, 87, 82, 76, 87, 77, 69, 77, 75, 73, 66, 73, 91, 100, 86, 90, 67]\n"
     ]
    }
   ],
   "source": [
    "# Tính tổng điểm cho từng học sinh:\n",
    "total = []\n",
    "for line in scores:\n",
    "    total.append(sum(line))\n",
    "print(total)"
   ]
  },
  {
   "cell_type": "code",
   "execution_count": 36,
   "id": "7eaa977b",
   "metadata": {},
   "outputs": [
    {
     "name": "stdout",
     "output_type": "stream",
     "text": [
      "Điểm trung bình của lớp:  78.0 \n",
      "Điểm trung vị của lớp:  76 \n",
      "Điểm cao nhất của lớp:  100 \n",
      "Điểm thấp nhất của lớp:  66 \n",
      "Khoảng điểm của lớp:  34\n"
     ]
    }
   ],
   "source": [
    "# Thống kê điểm của lớp:  \n",
    "sorted_total = sorted(total)\n",
    "max_score = max(total)\n",
    "min_score = min(total)\n",
    "mean_score = sum(total)/len(total)\n",
    "range_of_score = max(total) - min(total)\n",
    "y = len(sorted_total)\n",
    "if y % 2 == 0:\n",
    "    meadian_score = (sorted_total[int(y/2)] + sorted_total[int(y/2 + 1)])/2\n",
    "else:\n",
    "    meadian_score = sorted_total[int(y//2 + 1)]\n",
    "print(\"Điểm trung bình của lớp: \", mean_score,\n",
    "        \"\\nĐiểm trung vị của lớp: \", meadian_score,\n",
    "        \"\\nĐiểm cao nhất của lớp: \", max_score,\n",
    "        \"\\nĐiểm thấp nhất của lớp: \", min_score,\n",
    "        \"\\nKhoảng điểm của lớp: \", range_of_score)\n"
   ]
  },
  {
   "cell_type": "markdown",
   "id": "95482bff",
   "metadata": {},
   "source": [
    "# TASK 4: Nhập điểm của học sinh ra file"
   ]
  },
  {
   "cell_type": "code",
   "execution_count": 37,
   "id": "680a4d9d",
   "metadata": {},
   "outputs": [],
   "source": [
    "name_id = []\n",
    "for line in valid_mark_table:\n",
    "    x = line.strip().split(\",\")\n",
    "    name_id.append(x[0])\n",
    "score_table = []\n",
    "for i in range(len(name_id)):\n",
    "    score_table.append(name_id[i] + \",\" + str(total[i]) + \"\\n\")\n"
   ]
  },
  {
   "cell_type": "code",
   "execution_count": 38,
   "id": "5805285c",
   "metadata": {},
   "outputs": [
    {
     "data": {
      "text/plain": [
       "['N00000021,68\\n',\n",
       " 'N00000022,76\\n',\n",
       " 'N00000024,73\\n',\n",
       " 'N00000026,72\\n',\n",
       " 'N00000028,73\\n',\n",
       " 'N00000029,87\\n',\n",
       " 'N00000030,82\\n',\n",
       " 'N00000031,76\\n',\n",
       " 'N00000032,87\\n',\n",
       " 'N00000033,77\\n',\n",
       " 'N00000034,69\\n',\n",
       " 'N00000036,77\\n',\n",
       " 'N00000037,75\\n',\n",
       " 'N00000038,73\\n',\n",
       " 'N00000039,66\\n',\n",
       " 'N00000040,73\\n',\n",
       " 'N00000041,91\\n',\n",
       " 'N00000042,100\\n',\n",
       " 'N00000043,86\\n',\n",
       " 'N00000044,90\\n',\n",
       " 'N00000045,67\\n']"
      ]
     },
     "execution_count": 38,
     "metadata": {},
     "output_type": "execute_result"
    }
   ],
   "source": [
    "score_table"
   ]
  },
  {
   "cell_type": "code",
   "execution_count": 39,
   "id": "ec83ab47",
   "metadata": {},
   "outputs": [
    {
     "name": "stdout",
     "output_type": "stream",
     "text": [
      "Tên file cần xuất: class2_grade.txt\n"
     ]
    }
   ],
   "source": [
    "grade_file = input(\"Tên file cần xuất: \")\n",
    "with open(grade_file, \"w\") as writefile:\n",
    "    for line in score_table:\n",
    "        writefile.write(line)"
   ]
  },
  {
   "cell_type": "code",
   "execution_count": null,
   "id": "dd171231",
   "metadata": {},
   "outputs": [],
   "source": []
  }
 ],
 "metadata": {
  "kernelspec": {
   "display_name": "Python 3 (ipykernel)",
   "language": "python",
   "name": "python3"
  },
  "language_info": {
   "codemirror_mode": {
    "name": "ipython",
    "version": 3
   },
   "file_extension": ".py",
   "mimetype": "text/x-python",
   "name": "python",
   "nbconvert_exporter": "python",
   "pygments_lexer": "ipython3",
   "version": "3.10.2"
  }
 },
 "nbformat": 4,
 "nbformat_minor": 5
}
